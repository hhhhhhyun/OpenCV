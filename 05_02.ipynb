{
 "cells": [
  {
   "cell_type": "code",
   "execution_count": 1,
   "metadata": {},
   "outputs": [],
   "source": [
    "import cv2\n",
    "import numpy as np\n",
    "\n",
    "sso_path = \"images/sso.png\""
   ]
  },
  {
   "cell_type": "code",
   "execution_count": 12,
   "metadata": {},
   "outputs": [],
   "source": [
    "#방법1\n",
    "img = cv2.imread(sso_path)\n",
    "img.shape\n",
    "\n",
    "dst = cv2.resize(img, None, fx=0.5, fy=0.5)\n",
    "dst_1 = cv2.flip(dst, 1)\n",
    "\n",
    "h1, w1, _ = img.shape\n",
    "h2, w2, _ = dst_1.shape\n",
    "\n",
    "x_offset = w1 - w2\n",
    "y_offset = h1 - h2\n",
    "\n",
    "img[y_offset:h1, x_offset:w1] = dst_1\n",
    "\n",
    "cv2.imshow(\"resize\", img)\n",
    "cv2.waitKey(0)\n",
    "cv2.destroyAllWindows()"
   ]
  },
  {
   "cell_type": "code",
   "execution_count": 13,
   "metadata": {},
   "outputs": [],
   "source": [
    "#방법2\n",
    "img = cv2.imread(\"images/ikm.png\")\n",
    "\n",
    "dst = cv2.pyrDown(img)\n",
    "# dst = cv2.resizez(img, None, fx = 0.5, fy=0.5)\n",
    "dst = cv2.flip(dst, 1)\n",
    "\n",
    "iheight, iwidth, ichannel = img.shape\n",
    "dheight, dwidth, dchannel = dst.shape\n",
    "\n",
    "img[iheight-dheight : iheight, iwidth-dwidth : iwidth] = dst\n",
    "\n",
    "cv2.imshow(\"img\", img)\n",
    "cv2.waitKey(0)\n",
    "cv2.destroyAllWindows()"
   ]
  }
 ],
 "metadata": {
  "kernelspec": {
   "display_name": "my_cv",
   "language": "python",
   "name": "python3"
  },
  "language_info": {
   "codemirror_mode": {
    "name": "ipython",
    "version": 3
   },
   "file_extension": ".py",
   "mimetype": "text/x-python",
   "name": "python",
   "nbconvert_exporter": "python",
   "pygments_lexer": "ipython3",
   "version": "3.10.10"
  }
 },
 "nbformat": 4,
 "nbformat_minor": 2
}
