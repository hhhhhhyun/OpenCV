{
 "cells": [
  {
   "cell_type": "code",
   "execution_count": 2,
   "metadata": {},
   "outputs": [],
   "source": [
    "## 09. 이벤트"
   ]
  },
  {
   "cell_type": "code",
   "execution_count": 13,
   "metadata": {},
   "outputs": [],
   "source": [
    "# 마우스 클릭시 \n",
    "import cv2\n",
    "\n",
    "img = cv2.imread(\"images/ikm.png\")\n",
    "\n",
    "def on_mouse(event, x, y, flags, _):\n",
    "    if event == cv2.EVENT_LBUTTONDOWN:\n",
    "        # print(event, cv2.EVENT_LBUTTONDOWN)\n",
    "        # print(\"이벤트 작동\")\n",
    "        # print(x, y)\n",
    "        cv2.circle(img, (x, y), 10, (255, 255, 0), cv2.FILLED)\n",
    "        cv2.imshow(name, img)\n",
    "\n",
    "name = \"Mouse event\"\n",
    "\n",
    "cv2.namedWindow(name)\n",
    "cv2.setMouseCallback(name, on_mouse)\n",
    "cv2.imshow(name,img)\n",
    "cv2.waitKey(0)\n",
    "cv2.destroyAllWindows()"
   ]
  },
  {
   "cell_type": "code",
   "execution_count": 18,
   "metadata": {},
   "outputs": [],
   "source": [
    "# 점이 누적되지 않도록 하기\n",
    "# copied 이용\n",
    "import cv2\n",
    "\n",
    "img = cv2.imread(\"images/ikm.png\")\n",
    "name = \"Mouse event\"\n",
    "\n",
    "def on_mouse(event, x, y, flags, _):\n",
    "    if event == cv2.EVENT_LBUTTONDOWN:\n",
    "        copied = img.copy()\n",
    "        cv2.circle(copied, (x, y), 10, (255, 255, 0), cv2.FILLED)\n",
    "        cv2.imshow(name, copied)\n",
    "\n",
    "cv2.namedWindow(name)\n",
    "cv2.setMouseCallback(name, on_mouse)\n",
    "cv2.imshow(name,img)\n",
    "cv2.waitKey(0)\n",
    "cv2.destroyAllWindows()"
   ]
  }
 ],
 "metadata": {
  "kernelspec": {
   "display_name": "my_cv",
   "language": "python",
   "name": "python3"
  },
  "language_info": {
   "codemirror_mode": {
    "name": "ipython",
    "version": 3
   },
   "file_extension": ".py",
   "mimetype": "text/x-python",
   "name": "python",
   "nbconvert_exporter": "python",
   "pygments_lexer": "ipython3",
   "version": "3.10.10"
  }
 },
 "nbformat": 4,
 "nbformat_minor": 2
}
