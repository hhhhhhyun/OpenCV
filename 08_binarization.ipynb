{
 "cells": [
  {
   "cell_type": "code",
   "execution_count": 1,
   "metadata": {},
   "outputs": [],
   "source": [
    "## 08. 이진화\n",
    "## 임계값을 기준으로 색상을 흰색과 검은색으로 나누는 것\n",
    "## GRAYSCALE에서만 가능"
   ]
  },
  {
   "cell_type": "code",
   "execution_count": 1,
   "metadata": {},
   "outputs": [],
   "source": [
    "### 8-1. 기본 이진화\n",
    "### ret, binary = cv2.threshold() \n",
    "   \n",
    "import cv2\n",
    "import numpy as np\n",
    "\n",
    "BOOK = \"images/book.jpg\""
   ]
  },
  {
   "cell_type": "code",
   "execution_count": 2,
   "metadata": {},
   "outputs": [],
   "source": [
    "img = cv2.imread(BOOK, cv2.IMREAD_GRAYSCALE)\n",
    "\n",
    "ret, binary = cv2.threshold(img, 127, 255, cv2.THRESH_BINARY) # 검은색과 흰색으로 나누기 위해 255로 설정, # THRESH_BINARY: 임계값보다 크면 흰색, 작으면 검은색으로 하겠다.(이진화의 옵션이다)\n",
    "\n",
    "cv2.imshow(\"img\", img)\n",
    "cv2.imshow(\"binary\", binary)\n",
    "\n",
    "cv2.waitKey(0)\n",
    "cv2.destroyAllWindows()"
   ]
  },
  {
   "cell_type": "code",
   "execution_count": 3,
   "metadata": {},
   "outputs": [],
   "source": [
    "# 트랙바\n",
    "# affine 변환 사용 해서 트랙바 만들어보기\n",
    "IKM_PATH = \"images/ikm.png\"\n",
    "\n",
    "img = cv2.imread(IKM_PATH)\n",
    "name = \"Trackbar\"\n",
    "trackbar_name = \"Rotation\"\n",
    "cv2.namedWindow(name)\n",
    "\n",
    "cv2.createTrackbar(trackbar_name, name, 0, 360, lambda x: x)\n",
    "\n",
    "while True:\n",
    "    angle  = cv2.getTrackbarPos(trackbar_name, name) # 현재 트랙바가 위치해 있는 곳을 불러와야함함\n",
    "    center = (img.shape[1]/2, img.shape[0]/2)\n",
    "    affine = cv2.getRotationMatrix2D(center, angle, 2) # 1: 스케일은 그대로 유지하겠다.\n",
    "    dst = cv2.warpAffine(img, affine, (img.shape[1], img.shape[0])) #shape[1] : 가로, shape[0] : 세로\n",
    "\n",
    "    cv2.imshow(name, dst)\n",
    "\n",
    "    if cv2.waitKey(1) == ord(\"q\"):\n",
    "        break\n",
    "\n",
    "cv2.destroyAllWindows()"
   ]
  },
  {
   "cell_type": "code",
   "execution_count": 5,
   "metadata": {},
   "outputs": [],
   "source": [
    "### 8-2. 적응형 이진화(Adaptive threshold)\n",
    "### 블록마다 다른 임계값을 적용한다."
   ]
  },
  {
   "cell_type": "code",
   "execution_count": 6,
   "metadata": {},
   "outputs": [],
   "source": [
    "img = cv2.imread(BOOK, cv2.IMREAD_GRAYSCALE)\n",
    "name = \"Adaptive\"\n",
    "cv2.namedWindow(name)\n",
    "\n",
    "cv2.createTrackbar(\"block_size\", name, 25, 100, lambda x:x) # 1보다 큰 홀수만 가능\n",
    "cv2.createTrackbar(\"C\", name, 1, 10, lambda x:x) # 일반적으로 양수를 사용\n",
    "\n",
    "while True:\n",
    "    block_size = cv2.getTrackbarPos(\"block_size\", name)\n",
    "    C = cv2.getTrackbarPos(\"C\", name)\n",
    "\n",
    "    if block_size <= 1:\n",
    "        block_size = 3\n",
    "\n",
    "    if block_size % 2 == 0:\n",
    "        block_size += 1\n",
    "\n",
    "    binary = cv2.adaptiveThreshold(img, 255, cv2.ADAPTIVE_THRESH_MEAN_C, cv2.THRESH_BINARY, block_size, C)\n",
    "    cv2.imshow(name, binary)\n",
    "    if cv2.waitKey(1) == ord(\"q\"):\n",
    "        break\n",
    "\n",
    "cv2.destroyAllWindows()"
   ]
  },
  {
   "cell_type": "code",
   "execution_count": 8,
   "metadata": {},
   "outputs": [],
   "source": [
    "### 8-3. 오츠 알고리즘\n",
    "### 최적의 Threshold를 찾는 알고리즘\n",
    "\n",
    "img = cv2.imread(BOOK, cv2.IMREAD_GRAYSCALE)\n",
    "ret_1, binary = cv2. threshold(img, 127, 255, cv2.THRESH_BINARY) # ret : return 값\n",
    "ret_2, otsu = cv2. threshold(img, -1, 255, cv2.THRESH_BINARY | cv2.THRESH_OTSU) # | : or 이기때문에 집합해서는 합집합을 의미함 (+와 같이 작용한다.)\n",
    "\n",
    "# print(ret_1, ret_2)\n",
    "\n",
    "cv2.imshow(\"img\", img)\n",
    "cv2.imshow(\"binary\", binary)\n",
    "cv2.imshow(\"otsu\", otsu)\n",
    "\n",
    "cv2.waitKey(0)\n",
    "cv2.destroyAllWindows()"
   ]
  }
 ],
 "metadata": {
  "kernelspec": {
   "display_name": "my_cv",
   "language": "python",
   "name": "python3"
  },
  "language_info": {
   "codemirror_mode": {
    "name": "ipython",
    "version": 3
   },
   "file_extension": ".py",
   "mimetype": "text/x-python",
   "name": "python",
   "nbconvert_exporter": "python",
   "pygments_lexer": "ipython3",
   "version": "3.10.10"
  }
 },
 "nbformat": 4,
 "nbformat_minor": 2
}
