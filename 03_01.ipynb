{
 "cells": [
  {
   "cell_type": "code",
   "execution_count": 1,
   "metadata": {},
   "outputs": [],
   "source": [
    "### 실습1. 도형 그려보기\n",
    "import cv2\n",
    "import numpy as np\n",
    "\n",
    "img = np.zeros((460, 640, 3), dtype = np.uint8)\n",
    "img[:] = (255, 255, 255)\n",
    "pts = np.array([[100,100],[200,100],[100,200]])\n",
    "\n",
    "cv2.line(img, (50,50), (400,50), (255,0,0), 5, cv2.LINE_4)\n",
    "cv2.circle(img, (200,300), 50, (0,50,0), 5, cv2.LINE_AA)\n",
    "cv2.ellipse(img, (300,200), (100,50), 30,0, 360, (0,0,255), 5, cv2.LINE_AA)\n",
    "cv2.rectangle(img, (50,50), (250,250),(255,255,0), 10, cv2.LINE_AA)\n",
    "cv2.polylines(img, [pts], True, (255,0,255), 5)\n",
    "\n",
    "cv2.imshow(\"total\", img)\n",
    "cv2.waitKey(0)\n",
    "cv2.destroyAllWindows()"
   ]
  },
  {
   "cell_type": "code",
   "execution_count": null,
   "metadata": {},
   "outputs": [],
   "source": []
  }
 ],
 "metadata": {
  "kernelspec": {
   "display_name": "my_cv",
   "language": "python",
   "name": "python3"
  },
  "language_info": {
   "codemirror_mode": {
    "name": "ipython",
    "version": 3
   },
   "file_extension": ".py",
   "mimetype": "text/x-python",
   "name": "python",
   "nbconvert_exporter": "python",
   "pygments_lexer": "ipython3",
   "version": "3.10.10"
  }
 },
 "nbformat": 4,
 "nbformat_minor": 2
}
