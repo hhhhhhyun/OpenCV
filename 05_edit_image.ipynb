{
 "cells": [
  {
   "cell_type": "code",
   "execution_count": 18,
   "metadata": {},
   "outputs": [],
   "source": [
    "import cv2\n",
    "import numpy as np\n",
    "\n",
    "IKM_PATH = \"images/ikm.png\"\n",
    "ikm2_path = \"images/ikm2.png\""
   ]
  },
  {
   "cell_type": "code",
   "execution_count": 2,
   "metadata": {},
   "outputs": [],
   "source": [
    "### 5-1. 이미지 복사\n",
    "img = cv2.imread(IKM_PATH)\n",
    "shallow_copy = img\n",
    "deep_copy = img.copy()\n",
    "\n",
    "gray = cv2.cvtColor(shallow_copy, cv2.COLOR_BGR2GRAY)\n",
    "\n",
    "cv2.imshow(\"original\", img)\n",
    "cv2.imshow(\"shallow\", gray)\n",
    "\n",
    "cv2.waitKey(0)\n",
    "cv2.destroyAllWindows()"
   ]
  },
  {
   "cell_type": "code",
   "execution_count": 3,
   "metadata": {},
   "outputs": [],
   "source": [
    "### 5-2.리사이즈\n",
    "\n",
    "img = cv2.imread(IKM_PATH)\n",
    "img.shape\n",
    "\n",
    "# 방법1. 고정 크기를 입력해서 조정\n",
    "dst = cv2.resize(img, (213,320))\n",
    "\n",
    "# 방법2. 비율로 조정\n",
    "dst = cv2.resize(img, None, fx=2, fy=2)\n",
    "\n",
    "cv2.imshow(\"resize\", dst)\n",
    "cv2.waitKey(0)\n",
    "cv2.destroyAllWindows()"
   ]
  },
  {
   "cell_type": "code",
   "execution_count": 14,
   "metadata": {},
   "outputs": [],
   "source": [
    "### 보간법 # 영상 퀄리티를 높이고자 보간법을 사용한다\n",
    "img = cv2.imread(IKM_PATH)\n",
    "img.shape\n",
    "\n",
    "# 고정 크기를 입력해서 조정\n",
    "dst = cv2.resize(img, (213,320))\n",
    "\n",
    "# 비율로 조정\n",
    "dst = cv2.resize(img, None, fx=5, fy=5)\n",
    "cubic = cv2.resize(img, None, fx=5, fy=5, interpolation=cv2.INTER_CUBIC)\n",
    "\n",
    "cv2.imshow(\"resize\", dst)\n",
    "cv2.imshow(\"cubic\", cubic)\n",
    "cv2.waitKey(0)\n",
    "cv2.destroyAllWindows()"
   ]
  },
  {
   "cell_type": "code",
   "execution_count": 49,
   "metadata": {},
   "outputs": [],
   "source": [
    "### 이미지 피라미드\n",
    "# 나중에 해보기"
   ]
  },
  {
   "cell_type": "code",
   "execution_count": 13,
   "metadata": {},
   "outputs": [],
   "source": [
    "### 5-3.이미지 자르기 \n",
    "#### 배열 슬라이싱을이용하여 특정 영역을 추출\n",
    "img = cv2.imread(IKM_PATH)\n",
    "\n",
    "cropped = img[100:200, 100:400]\n",
    "\n",
    "cv2.imshow(\"Ikm\", img)\n",
    "cv2.imshow(\"Ikm Cropped\", cropped)\n",
    "\n",
    "cv2.waitKey(0)\n",
    "cv2.destroyAllWindows()"
   ]
  },
  {
   "cell_type": "code",
   "execution_count": 12,
   "metadata": {},
   "outputs": [],
   "source": [
    "# 잘라서 이어 붙이기\n",
    "img = cv2.imread(IKM_PATH)\n",
    "img.shape\n",
    "\n",
    "cropped = img[100:150, 150:200]\n",
    "img[150:200, 100:150] = cropped\n",
    "\n",
    "cv2.imshow(\"Ikm\", img)\n",
    "\n",
    "cv2.waitKey(0)\n",
    "cv2.destroyAllWindows()"
   ]
  },
  {
   "cell_type": "code",
   "execution_count": 11,
   "metadata": {},
   "outputs": [],
   "source": [
    "### 5-4.이미지 대칭\n",
    "#- 'flipcode > 0' : 좌우 반전 (y축 반전)\n",
    "#- 'flipcode == 0' : 상하 반전 (x축 반전)\n",
    "#- 'flipcode < 0' : 상하좌우 반전\n",
    "\n",
    "img = cv2.imread(IKM_PATH)\n",
    "\n",
    "dst_1 = cv2.flip(img, 1)\n",
    "dst_2 = cv2.flip(img, 0)\n",
    "dst_3 = cv2.flip(img, -1)\n",
    "\n",
    "cv2.imshow(\"img\", img)\n",
    "cv2.imshow(\"dst_1\", dst_1)\n",
    "cv2.imshow(\"dst_2\", dst_2)\n",
    "cv2.imshow(\"dst_3\", dst_3)\n",
    "\n",
    "cv2.waitKey()\n",
    "cv2.destroyAllWindows()"
   ]
  },
  {
   "cell_type": "code",
   "execution_count": 10,
   "metadata": {},
   "outputs": [],
   "source": [
    "# 이미지 채널 분리와 병합 -> 다시 해보기!!\n",
    "img = cv2.imread(\"images/ikm.png\")\n",
    "\n",
    "blue, green, red = cv2.split(img)\n",
    "\n",
    "cv2.imshow(\"Blue\", blue)\n",
    "cv2.imshow(\"Green\", green)\n",
    "cv2.imshow(\"Red\", red)\n",
    "\n",
    "cv2.waitKey(0)\n",
    "cv2.destroyAllWindows()"
   ]
  },
  {
   "cell_type": "code",
   "execution_count": 9,
   "metadata": {},
   "outputs": [],
   "source": [
    "# 이미지 색상 변경\n",
    "img = cv2.imread(IKM_PATH)\n",
    "gray = cv2.cvtColor(img, cv2.COLOR_BGR2GRAY)\n",
    "rgb = cv2.cvtColor(img, cv2.COLOR_BGR2RGB)\n",
    "\n",
    "cv2.imshow(\"gray\", gray)\n",
    "cv2.imshow(\"rgb\", rgb)\n",
    "\n",
    "cv2.waitKey(0)\n",
    "cv2.destroyAllWindows()"
   ]
  },
  {
   "cell_type": "code",
   "execution_count": 8,
   "metadata": {},
   "outputs": [],
   "source": [
    "### 5-5. 이미지 흐리기(GaussianBlur)\n",
    "\n",
    "img = cv2.imread(ikm2_path)\n",
    "\n",
    "# 커널을 사용하는 방식\n",
    "# (3,3) (5,5) (7,7)을 주로 사용 \n",
    "kernel_3 = cv2.GaussianBlur(img, (3,3), 0)\n",
    "kernel_5 = cv2.GaussianBlur(img, (5,5), 0)\n",
    "kernel_7 = cv2.GaussianBlur(img, (7,7), 0)\n",
    "\n",
    "cv2.imshow(\"kernel_3\", kernel_3)\n",
    "cv2.imshow(\"kernel_5\", kernel_5)\n",
    "cv2.imshow(\"kernel_7\", kernel_7)\n",
    "\n",
    "cv2.waitKey(0)\n",
    "cv2.destroyAllWindows()"
   ]
  },
  {
   "cell_type": "code",
   "execution_count": 7,
   "metadata": {},
   "outputs": [],
   "source": [
    "# v표준편차를 사용하는 방법\n",
    "\n",
    "img = cv2.imread(ikm2_path)\n",
    "\n",
    "sigma_1 = cv2.GaussianBlur(img, (3,3), 0)\n",
    "sigma_2 = cv2.GaussianBlur(img, (5,5), 0)\n",
    "sigma_3 = cv2.GaussianBlur(img, (7,7), 0)\n",
    "\n",
    "cv2.imshow(\"sigma_1\", sigma_1)\n",
    "cv2.imshow(\"sigma_2\", sigma_2)\n",
    "cv2.imshow(\"sigma_3\", sigma_3)\n",
    "\n",
    "cv2.waitKey(0)\n",
    "cv2.destroyAllWindows()"
   ]
  },
  {
   "cell_type": "code",
   "execution_count": 6,
   "metadata": {},
   "outputs": [],
   "source": [
    "### 5-6.이미지 회전\n",
    "\n",
    "# rotateCode\n",
    "#   cv2.ROTATE_90_CLOCKWISE : 시계방향 90도 회전\n",
    "#   cv2.ROTATE_180 : 180도 회전\n",
    "#   cv2.ROTATE_90_COUNTERCLOCKWISE : 반시계 방향 90도 회전\n",
    "img = cv2.imread(ikm2_path)\n",
    "\n",
    "dst_90 = cv2.rotate(img, cv2.ROTATE_90_CLOCKWISE)\n",
    "dst_180 = cv2.rotate(img, cv2.ROTATE_180)\n",
    "dst_90_counter = cv2.rotate(img, cv2.ROTATE_90_COUNTERCLOCKWISE)\n",
    "\n",
    "cv2.imshow(\"90\", dst_90)\n",
    "cv2.imshow(\"180\", dst_180)\n",
    "cv2.imshow(\"sigma_3\", dst_90_counter)\n",
    "\n",
    "cv2.waitKey(0)\n",
    "cv2.destroyAllWindows()"
   ]
  },
  {
   "cell_type": "code",
   "execution_count": 5,
   "metadata": {},
   "outputs": [],
   "source": [
    "# affine 변환 사용\n",
    "img = cv2.imread(IKM_PATH)\n",
    "center = (img.shape[1]/2, img.shape[0]/2)\n",
    "affine = cv2.getRotationMatrix2D(center, -45, 2) # 1: 스케일은 그대로 유지하겠다.\n",
    "dst = cv2.warpAffine(img, affine, (img.shape[1], img.shape[0])) #shape[1] : 가로, shape[0] : 세로\n",
    "\n",
    "cv2.imshow(\"Img\", img)\n",
    "cv2.imshow(\"Rotate\", dst)\n",
    "\n",
    "cv2.waitKey(0)\n",
    "cv2.destroyAllWindows()"
   ]
  },
  {
   "cell_type": "code",
   "execution_count": 4,
   "metadata": {},
   "outputs": [],
   "source": [
    "# 직접 affine행렬 직접 생성 방법\n",
    "import cv2\n",
    "import numpy as np\n",
    "import math\n",
    "\n",
    "img = cv2.imread(\"images/ikm.png\")\n",
    "rad = 20 * math.pi / 180 \n",
    "affine = np.array([[math.cos(rad), -math.sin(rad), 0],[math.sin(rad), math.cos(rad), 0]], dtype=np.float32)\n",
    "dst = cv2.warpAffine(img, affine, (img.shape[1], img.shape[0]))\n",
    "cv2.imshow(\"rotate\", dst)\n",
    "cv2.waitKey(0)\n",
    "cv2.destroyAllWindows()\n"
   ]
  }
 ],
 "metadata": {
  "kernelspec": {
   "display_name": "my_cv",
   "language": "python",
   "name": "python3"
  },
  "language_info": {
   "codemirror_mode": {
    "name": "ipython",
    "version": 3
   },
   "file_extension": ".py",
   "mimetype": "text/x-python",
   "name": "python",
   "nbconvert_exporter": "python",
   "pygments_lexer": "ipython3",
   "version": "3.10.10"
  }
 },
 "nbformat": 4,
 "nbformat_minor": 2
}
