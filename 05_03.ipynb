{
 "cells": [
  {
   "cell_type": "code",
   "execution_count": 8,
   "metadata": {},
   "outputs": [],
   "source": [
    "# 실습4. 이미지 흑백 반전 -> 해보기\n",
    "import cv2\n",
    "ikm2_path = \"images/ikm2.png\"\n",
    "\n",
    "ikm2 = cv2.imread(ikm2_path)\n",
    "gray = cv2.cvtColor(ikm2, cv2.IMREAD_GRAYSCALE)\n",
    "reverse = 255 - gray \n",
    "\n",
    "cv2.imshow(\"Original Image\", gray)\n",
    "cv2.imshow(\"Inverted Image\", reverse)\n",
    "\n",
    "cv2.waitKey(0)\n",
    "cv2.destroyAllWindows()\n"
   ]
  }
 ],
 "metadata": {
  "kernelspec": {
   "display_name": "my_cv",
   "language": "python",
   "name": "python3"
  },
  "language_info": {
   "codemirror_mode": {
    "name": "ipython",
    "version": 3
   },
   "file_extension": ".py",
   "mimetype": "text/x-python",
   "name": "python",
   "nbconvert_exporter": "python",
   "pygments_lexer": "ipython3",
   "version": "3.10.10"
  }
 },
 "nbformat": 4,
 "nbformat_minor": 2
}
