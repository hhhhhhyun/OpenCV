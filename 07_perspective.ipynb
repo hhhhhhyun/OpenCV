{
 "cells": [
  {
   "cell_type": "code",
   "execution_count": null,
   "metadata": {},
   "outputs": [],
   "source": [
    "## 07. 원근변환\n",
    "### 7-1."
   ]
  },
  {
   "cell_type": "code",
   "execution_count": 2,
   "metadata": {},
   "outputs": [],
   "source": [
    "import cv2\n",
    "import numpy as np\n",
    "CARD = \"images/card.jpg\""
   ]
  },
  {
   "cell_type": "code",
   "execution_count": 10,
   "metadata": {},
   "outputs": [],
   "source": [
    "img = cv2.imread(CARD)\n",
    "\n",
    "width, height = 600, 300\n",
    "\n",
    "# 변형할 지점 선택 : 좌표 지점 선택할 때 시계방향으로 돌아야함\n",
    "src = np.array([[54, 261], [981, 128], [1213, 560], [194, 735]], dtype = np.float32) \n",
    "\n",
    "# 결과물 출력할 형태 : 시계방향으로 돌아야함\n",
    "dst = np.array([[0,0], [width, 0], [width, height], [0, height]], dtype = np.float32)\n",
    "\n",
    "# 원근을 변형하기 위한 matrix 생성\n",
    "mat = cv2.getPerspectiveTransform(src, dst) # cv2.getPerspectiveTransform(변형할 소스, 출력할 결과물 형태)\n",
    "\n",
    "# img를 mat에 의해 변환\n",
    "result = cv2.warpPerspective(img, mat, (width, height)) # cv2.warpPerspective(원본이미지, 출력할 결과물, (결과물의 너비와, 높이))\n",
    "\n",
    "cv2.imshow(\"img\", img) # 원본 출력\n",
    "cv2.imshow(\"perspective\", result) # 결과물 출력력\n",
    "\n",
    "cv2.waitKey(0)\n",
    "cv2.destroyAllWindows()"
   ]
  }
 ],
 "metadata": {
  "kernelspec": {
   "display_name": "my_cv",
   "language": "python",
   "name": "python3"
  },
  "language_info": {
   "codemirror_mode": {
    "name": "ipython",
    "version": 3
   },
   "file_extension": ".py",
   "mimetype": "text/x-python",
   "name": "python",
   "nbconvert_exporter": "python",
   "pygments_lexer": "ipython3",
   "version": "3.10.10"
  }
 },
 "nbformat": 4,
 "nbformat_minor": 2
}
