{
 "cells": [
  {
   "cell_type": "code",
   "execution_count": null,
   "metadata": {},
   "outputs": [],
   "source": [
    "# 실습1. 이미지 원근 변환하기\n",
    "# 1. 기울어진 이미지 찾아서 다운로드\n",
    "# 2. 학습한 원근 변환 방법을 바탕으로 이미지를 펼쳐보기"
   ]
  },
  {
   "cell_type": "code",
   "execution_count": 2,
   "metadata": {},
   "outputs": [],
   "source": [
    "import cv2\n",
    "import numpy as np\n",
    "HAND = \"images/hand.jpg\"\n",
    "width, height = 100, 400\n",
    "\n",
    "img = cv2.imread(HAND)\n",
    "src = np.array([[274,641], [478,596], [711,1113], [568,1192]], dtype = np.float32) \n",
    "dst = np.array([[0,0], [width, 0], [width, height], [0, height]], dtype = np.float32)\n",
    "\n",
    "mat = cv2.getPerspectiveTransform(src, dst) \n",
    "\n",
    "result = cv2.warpPerspective(img, mat, (width, height)) \n",
    "cv2.imshow(\"img\", img) \n",
    "cv2.imshow(\"perspective\", result) \n",
    "\n",
    "cv2.waitKey(0)\n",
    "cv2.destroyAllWindows()"
   ]
  }
 ],
 "metadata": {
  "kernelspec": {
   "display_name": "my_cv",
   "language": "python",
   "name": "python3"
  },
  "language_info": {
   "codemirror_mode": {
    "name": "ipython",
    "version": 3
   },
   "file_extension": ".py",
   "mimetype": "text/x-python",
   "name": "python",
   "nbconvert_exporter": "python",
   "pygments_lexer": "ipython3",
   "version": "3.10.10"
  }
 },
 "nbformat": 4,
 "nbformat_minor": 2
}
