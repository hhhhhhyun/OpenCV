{
 "cells": [
  {
   "cell_type": "markdown",
   "metadata": {},
   "source": [
    "## 실습3. 순서대로 박스 표시\n",
    "### 1. 인덱스 트랙바를 만들고\n",
    "### 2. 트랙바의 인덱스 값을 변경하면\n",
    "### 3. 생성된 박스가 순서대로 화면에 띄워지도록 구현하기"
   ]
  },
  {
   "cell_type": "code",
   "execution_count": 2,
   "metadata": {},
   "outputs": [],
   "source": [
    "import cv2\n",
    "import numpy as np\n",
    "\n",
    "IMG = \"images/vehicles.png\""
   ]
  },
  {
   "cell_type": "markdown",
   "metadata": {},
   "source": [
    "*의사코드(슈도코드, Pseudo-code)\n",
    ": 코드를 직접 짜기 전에 주석으로 쳐보기"
   ]
  },
  {
   "cell_type": "code",
   "execution_count": null,
   "metadata": {},
   "outputs": [],
   "source": [
    "# 윤곽선을 찾고 : 그레이스케일 -> 이진화 -> findContours\n",
    "# 윤곽선의 인덱스를 선택해서 -> 트랙바 이용 -> while\n",
    "# 해당 인덱스의 bounding rect를 추출하고 -> boundingRect\n",
    "# 화면에 사각형을 그린다 -> cv2.rectangle\n"
   ]
  },
  {
   "cell_type": "code",
   "execution_count": 3,
   "metadata": {},
   "outputs": [
    {
     "ename": "IndexError",
     "evalue": "tuple index out of range",
     "output_type": "error",
     "traceback": [
      "\u001b[1;31m---------------------------------------------------------------------------\u001b[0m",
      "\u001b[1;31mIndexError\u001b[0m                                Traceback (most recent call last)",
      "Cell \u001b[1;32mIn[3], line 18\u001b[0m\n\u001b[0;32m     15\u001b[0m index \u001b[38;5;241m=\u001b[39m cv2\u001b[38;5;241m.\u001b[39mgetTrackbarPos(\u001b[38;5;124m\"\u001b[39m\u001b[38;5;124mIndex\u001b[39m\u001b[38;5;124m\"\u001b[39m, name)\n\u001b[0;32m     17\u001b[0m \u001b[38;5;66;03m# 해당 인덱스의 bounding rect를 추출하고 -> cv2.rectangle\u001b[39;00m\n\u001b[1;32m---> 18\u001b[0m x, y, width, height \u001b[38;5;241m=\u001b[39m cv2\u001b[38;5;241m.\u001b[39mboundingRect(\u001b[43mcontours\u001b[49m\u001b[43m[\u001b[49m\u001b[43mindex\u001b[49m\u001b[43m]\u001b[49m)\n\u001b[0;32m     20\u001b[0m \u001b[38;5;66;03m#  contours[i] -> rect\u001b[39;00m\n\u001b[0;32m     21\u001b[0m \u001b[38;5;66;03m# 화면에 사각형을 그린다 -> cv2.rectangle\u001b[39;00m\n\u001b[0;32m     22\u001b[0m cv2\u001b[38;5;241m.\u001b[39mrectangle(coppied, (x, y), (x \u001b[38;5;241m+\u001b[39m width, y \u001b[38;5;241m+\u001b[39m height), (\u001b[38;5;241m255\u001b[39m, \u001b[38;5;241m255\u001b[39m, \u001b[38;5;241m0\u001b[39m), \u001b[38;5;241m2\u001b[39m)\n",
      "\u001b[1;31mIndexError\u001b[0m: tuple index out of range"
     ]
    }
   ],
   "source": [
    "img = cv2.imread(IMG)\n",
    "coppied = img.copy()\n",
    "name = \"Vehicles\"\n",
    "cv2.namedWindow(name)\n",
    "\n",
    "# 윤곽선 찾기\n",
    "gray = cv2.cvtColor(coppied, cv2.COLOR_BGR2GRAY) # 그레이스케일\n",
    "ret, binary = cv2.threshold(gray, -1, 255, cv2.THRESH_BINARY | cv2.THRESH_OTSU) # 이진화\n",
    "contours, hierachy = cv2.findContours(binary, cv2.RETR_EXTERNAL, cv2.CHAIN_APPROX_SIMPLE) #findContours\n",
    "\n",
    "# 윤곽선의 인덱스를 선택해서 -> 트랙바이용 -> while\n",
    "cv2.createTrackbar(\"Index\", name, 0, 250, lambda x:x)\n",
    "\n",
    "while True:\n",
    "    index = cv2.getTrackbarPos(\"Index\", name)\n",
    "\n",
    "    # 해당 인덱스의 bounding rect를 추출하고 -> cv2.rectangle\n",
    "    x, y, width, height = cv2.boundingRect(contours[index])\n",
    "\n",
    "    #  contours[i] -> rect\n",
    "    # 화면에 사각형을 그린다 -> cv2.rectangle\n",
    "    cv2.rectangle(coppied, (x, y), (x + width, y + height), (255, 255, 0), 2)\n",
    "    cv2.imshow(name, img)\n",
    "\n",
    "    if cv2.waitKey(1) == ord(\"q\"):\n",
    "        break\n",
    "\n",
    "cv2.destroyAllWindows()"
   ]
  },
  {
   "cell_type": "code",
   "execution_count": null,
   "metadata": {},
   "outputs": [],
   "source": []
  }
 ],
 "metadata": {
  "kernelspec": {
   "display_name": "my_cv",
   "language": "python",
   "name": "python3"
  },
  "language_info": {
   "codemirror_mode": {
    "name": "ipython",
    "version": 3
   },
   "file_extension": ".py",
   "mimetype": "text/x-python",
   "name": "python",
   "nbconvert_exporter": "python",
   "pygments_lexer": "ipython3",
   "version": "3.10.10"
  }
 },
 "nbformat": 4,
 "nbformat_minor": 2
}
