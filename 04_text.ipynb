{
 "cells": [
  {
   "cell_type": "code",
   "execution_count": 1,
   "metadata": {},
   "outputs": [],
   "source": [
    "# 04. 텍스트\n",
    "## 4-1. 텍스트 기본(영어)\n",
    "## openCV에서는 한글 입력 지원x -> 그래서 4-2 코드를 사용해야한당\n",
    "\n",
    "import cv2\n",
    "import numpy as np"
   ]
  },
  {
   "cell_type": "code",
   "execution_count": 5,
   "metadata": {},
   "outputs": [],
   "source": [
    "img = np.zeros((460, 640, 3), dtype = np.uint8)\n",
    "\n",
    "SCALE = 2\n",
    "COLOR = (255,255,255)\n",
    "THIKNESS = 2\n",
    "\n",
    "cv2.putText(img, \"Hello world\", (50, 50), cv2.FONT_HERSHEY_DUPLEX, SCALE, COLOR, THIKNESS) # cv2.putText(이미지, 텍스트, 텍스트가 시작되는 지점, 폰트, 크기, 색, 두께)\n",
    "cv2.putText(img, \"Hello world\", (50, 150), cv2.FONT_HERSHEY_COMPLEX , SCALE, COLOR, THIKNESS) \n",
    "cv2.putText(img, \"Hello world\", (50, 250), cv2.FONT_HERSHEY_PLAIN , SCALE, COLOR, THIKNESS)\n",
    "cv2.imshow(\"Text\", img)\n",
    "cv2.waitKey(0)\n",
    "cv2.destroyAllWindows()"
   ]
  },
  {
   "cell_type": "code",
   "execution_count": 3,
   "metadata": {},
   "outputs": [
    {
     "name": "stdout",
     "output_type": "stream",
     "text": [
      "Requirement already satisfied: pillow in .\\my_cv\\lib\\site-packages (11.1.0)\n",
      "Note: you may need to restart the kernel to use updated packages.\n"
     ]
    },
    {
     "name": "stderr",
     "output_type": "stream",
     "text": [
      "\n",
      "[notice] A new release of pip available: 22.3.1 -> 24.3.1\n",
      "[notice] To update, run: python.exe -m pip install --upgrade pip\n"
     ]
    }
   ],
   "source": [
    "### 4-2.한글 텍스트 입력\n",
    "%pip install pillow"
   ]
  },
  {
   "cell_type": "code",
   "execution_count": 4,
   "metadata": {},
   "outputs": [],
   "source": [
    "from PIL import Image, ImageDraw, ImageFont # 라이브러리 불러오기\n",
    "\n",
    "img = np.zeros((460, 640, 3), dtype = np.uint8) # 한글을 그릴 수 있는~ 불러오기\n",
    "\n",
    "def putKorText(img, text, pos, font_Size, font_color): #pos: position\n",
    "    img_pil = Image.fromarray(img)\n",
    "    draw = ImageDraw.Draw(img_pil)\n",
    "    font = ImageFont.truetype(\"fonts/gulim.ttc\", font_Size)\n",
    "    draw.text(pos, text, font=font, fill=font_color)\n",
    "    return np.array(img_pil)\n",
    "\n",
    "text = putKorText(img, \"스팩 7기 화이띵~\", (100,100), 30, (255,255,255))\n",
    "\n",
    "cv2.imshow(\"Korean text\", text)\n",
    "cv2.waitKey(0)\n",
    "cv2.destroyAllWindows()"
   ]
  }
 ],
 "metadata": {
  "kernelspec": {
   "display_name": "my_cv",
   "language": "python",
   "name": "python3"
  },
  "language_info": {
   "codemirror_mode": {
    "name": "ipython",
    "version": 3
   },
   "file_extension": ".py",
   "mimetype": "text/x-python",
   "name": "python",
   "nbconvert_exporter": "python",
   "pygments_lexer": "ipython3",
   "version": "3.10.10"
  }
 },
 "nbformat": 4,
 "nbformat_minor": 2
}
