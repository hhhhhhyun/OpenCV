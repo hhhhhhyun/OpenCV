{
 "cells": [
  {
   "cell_type": "code",
   "execution_count": 2,
   "metadata": {},
   "outputs": [],
   "source": [
    "# 실습2-2. Threshold에 적용\n",
    "# 트랙바 실습한 것을 참고해서, threshold에 트랙바를 적용해보기"
   ]
  },
  {
   "cell_type": "code",
   "execution_count": 4,
   "metadata": {},
   "outputs": [],
   "source": [
    "import cv2\n",
    "import numpy as np\n",
    "\n",
    "IKM = \"images/ikm.png\""
   ]
  },
  {
   "cell_type": "code",
   "execution_count": 6,
   "metadata": {},
   "outputs": [],
   "source": [
    "img = cv2.imread(IKM, cv2.IMREAD_GRAYSCALE)\n",
    "\n",
    "name = \"Threshold\"\n",
    "trackbar_name = \"threshold\"\n",
    "cv2.namedWindow(name)\n",
    "cv2.createTrackbar(trackbar_name, name, 127, 255, lambda x: x) # lambda x: x -> 아무것도 안넣으면 오류나니까 의미없는 빈 함수 넣기 \n",
    "\n",
    "while True:\n",
    "    threshold  = cv2.getTrackbarPos(trackbar_name, name)\n",
    "    ret, binary = cv2.threshold(img, threshold, 255, cv2.THRESH_BINARY)\n",
    "    cv2.imshow(name, binary)\n",
    "\n",
    "    if cv2.waitKey(1) == ord(\"q\"):\n",
    "        break\n",
    "\n",
    "cv2.destroyAllWindows()"
   ]
  },
  {
   "cell_type": "code",
   "execution_count": 14,
   "metadata": {},
   "outputs": [],
   "source": [
    "# 실습 2-1. 컬러 팔레트 만들기\n",
    "# RGB 값을 변경할 수 있는 트랙바를 만들고\n",
    "# RGB 값이 바뀜에 따라 배경색이 변하는 화면을 만들어 보자!\n",
    "# 기본 색상은 검은색으로 설정\n",
    "# 시간이 남는다면 트랙바의 작동을 제어 할 수 있는 on/off 스위치도 추가로 작성해본다."
   ]
  },
  {
   "cell_type": "code",
   "execution_count": 8,
   "metadata": {},
   "outputs": [],
   "source": [
    "img = np.zeros((460, 640, 3), dtype = np.uint8)\n",
    "name = \"palette\"\n",
    "cv2.namedWindow(name)\n",
    "\n",
    "trackbar_name1 = \"B\"\n",
    "trackbar_name2 = \"G\"\n",
    "trackbar_name3 = \"R\"\n",
    "trackbar_name4 = \"Switch\"\n",
    "\n",
    "cv2.createTrackbar(trackbar_name1, name, 0, 255, lambda x: x)\n",
    "cv2.createTrackbar(trackbar_name2, name, 0, 255, lambda x: x)\n",
    "cv2.createTrackbar(trackbar_name3, name, 0, 255, lambda x: x)\n",
    "cv2.createTrackbar(trackbar_name4, name, 0, 1, lambda x: x)\n",
    "\n",
    "while True: \n",
    "    blue = cv2.getTrackbarPos(trackbar_name1, name)\n",
    "    green = cv2.getTrackbarPos(trackbar_name2, name)\n",
    "    red = cv2.getTrackbarPos(trackbar_name3, name)\n",
    "    s = cv2.getTrackbarPos(trackbar_name4, name)\n",
    "\n",
    "    if s == 1:\n",
    "        img[:] = (blue, green, red) # BGR 순서\n",
    "    else:\n",
    "        img[:] = 0\n",
    "\n",
    "    cv2.imshow(name, img)\n",
    "    \n",
    "    if cv2.waitKey(1) == ord(\"q\"):\n",
    "        break\n",
    "\n",
    "cv2.destroyAllWindows()"
   ]
  }
 ],
 "metadata": {
  "kernelspec": {
   "display_name": "my_cv",
   "language": "python",
   "name": "python3"
  },
  "language_info": {
   "codemirror_mode": {
    "name": "ipython",
    "version": 3
   },
   "file_extension": ".py",
   "mimetype": "text/x-python",
   "name": "python",
   "nbconvert_exporter": "python",
   "pygments_lexer": "ipython3",
   "version": "3.10.10"
  }
 },
 "nbformat": 4,
 "nbformat_minor": 2
}
