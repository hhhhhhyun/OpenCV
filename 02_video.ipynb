{
 "cells": [
  {
   "cell_type": "code",
   "execution_count": 1,
   "metadata": {},
   "outputs": [],
   "source": [
    "## 2.비디오 입출력\n",
    "## 비디오의 재생 : 연속된 이미지를 재생하는 것\n",
    "## 프레임 : 연속된 이미지 중 하나\n",
    "## 비디오를 재생하기 위해서는 프레임을 연속적으로 재생"
   ]
  },
  {
   "cell_type": "code",
   "execution_count": 2,
   "metadata": {},
   "outputs": [
    {
     "name": "stdout",
     "output_type": "stream",
     "text": [
      "True\n"
     ]
    }
   ],
   "source": [
    "### 2-1. 비디오 파일 입출력\n",
    "\n",
    "import cv2\n",
    "video_path = \"videos/video.mp4\"\n",
    "\n",
    "cap = cv2.VideoCapture(video_path) # cv2.VideoCapture() : 경로의 파일 불러오기\n",
    "print(cap.isOpened())\n",
    "\n",
    "while cap.isOpened(): # 파일이 열려있는 동안 코드를 실행하겠다라는 조건문\n",
    "    ret, frame = cap.read() # ret : 프레임이 있는지 체크, frame : 불러온 이미지\n",
    "\n",
    "    if not ret : # 만약 이미지가 없다면 break 하겠다\n",
    "        break\n",
    "\n",
    "    cv2.imshow(\"video\", frame) \n",
    "\n",
    "    if cv2.waitKey(1) == ord(\"q\"):\n",
    "        break\n",
    "\n",
    "cap.release()\n",
    "cv2.destroyAllWindows()"
   ]
  },
  {
   "cell_type": "code",
   "execution_count": 3,
   "metadata": {},
   "outputs": [
    {
     "name": "stdout",
     "output_type": "stream",
     "text": [
      "25.0\n"
     ]
    }
   ],
   "source": [
    "### 2-2. 영상의 프레임 불러오기\n",
    "\n",
    "cap = cv2.VideoCapture(video_path) \n",
    "fps = cap.get(cv2.CAP_PROP_FPS)\n",
    "print(fps)\n",
    "\n",
    "while cap.isOpened(): # cv2.VideoCapture.isOpened() : 파일을 읽어서 frame을 반환\n",
    "    ret, frame = cap.read()\n",
    "\n",
    "    if not ret:\n",
    "        break\n",
    "\n",
    "    cv2.imshow(\"video\", frame) \n",
    "\n",
    "    if cv2.waitKey(int(1000/fps)) == ord(\"q\"):\n",
    "        break\n",
    "\n",
    "cap.release() # cv2.VideoCapture.release() : 영상 객체를 해제\n",
    "cv2.destroyAllWindows()"
   ]
  },
  {
   "cell_type": "code",
   "execution_count": 4,
   "metadata": {},
   "outputs": [
    {
     "name": "stdout",
     "output_type": "stream",
     "text": [
      "True\n"
     ]
    }
   ],
   "source": [
    "### 2-3. 카메라 입출력\n",
    "\n",
    "cap = cv2.VideoCapture(0)\n",
    "print(cap.isOpened())\n",
    "\n",
    "if not cap.isOpened():\n",
    "    exit()\n",
    "\n",
    "while True :\n",
    "    ret, frame = cap.read()\n",
    "\n",
    "    if not ret:\n",
    "        break\n",
    "    \n",
    "    cv2.imshow(\"Camera\", frame)\n",
    "\n",
    "    if cv2.waitKey(1) == ord(\"q\"):\n",
    "        break\n",
    "\n",
    "cap.release()\n",
    "cv2.destroyAllWindows()"
   ]
  },
  {
   "cell_type": "code",
   "execution_count": 5,
   "metadata": {},
   "outputs": [],
   "source": [
    "### 2-4. 비디오 쓰기\n",
    "\n",
    "cap = cv2.VideoCapture(video_path)\n",
    "fourcc = cv2.VideoWriter_fourcc(*\"DIVX\") # *\"DIVX\" = \"D\", \"I\", \"V\", \"X\" # fourcc : 비디오를 인코딩 해주기 위한 것\n",
    "fps = cap.get(cv2.CAP_PROP_FPS)\n",
    "width = round(cap.get(cv2.CAP_PROP_FRAME_WIDTH)) # 정수로 취해주기위해 round사용 (int 써도 됨)\n",
    "height = round(cap.get(cv2.CAP_PROP_FRAME_HEIGHT))\n",
    "out = cv2.VideoWriter(\"output/video.mp4\", fourcc, fps, (width, height)) # cv2.VIdeoWriter(파일경로, fourcc, fps) : 영상 쓰기 \n",
    "\n",
    "while cap.isOpened():\n",
    "    ret, frame = cap.read()\n",
    "\n",
    "    if not ret:\n",
    "        break\n",
    "\n",
    "    out.write(frame) # 소리는 들어가지 않도록\n",
    "    cv2.imshow(\"Video\", frame)\n",
    "\n",
    "    if cv2.waitKey(int(1000/fps)) == ord(\"q\"):\n",
    "        break\n",
    "\n",
    "out.release()\n",
    "cap.release()\n",
    "cv2.destroyAllWindows()"
   ]
  },
  {
   "cell_type": "code",
   "execution_count": 6,
   "metadata": {},
   "outputs": [],
   "source": [
    "# 실습2. 웹캠으로 사진 찍기\n",
    "cap = cv2.VideoCapture(0)\n",
    "\n",
    "if not cap.isOpened():\n",
    "    exit()\n",
    "\n",
    "while True:\n",
    "    ret, frame = cap.read()\n",
    "\n",
    "    if not ret:\n",
    "        break\n",
    "\n",
    "    cv2.imshow(\"Camera\", frame)\n",
    "\n",
    "    if cv2.waitKey(1) == ord(\"q\"): # if cv2.waitkey(1) != -1: 로 작성해도 됨 (아무거나 눌러도 사진이 캡쳐되면서 창 닫힘) \n",
    "        cv2.imwrite(\"output/practice.jpg\", frame)\n",
    "        break\n",
    "cap.release()\n",
    "cv2.destroyAllWindows()"
   ]
  }
 ],
 "metadata": {
  "kernelspec": {
   "display_name": "my_cv",
   "language": "python",
   "name": "python3"
  },
  "language_info": {
   "codemirror_mode": {
    "name": "ipython",
    "version": 3
   },
   "file_extension": ".py",
   "mimetype": "text/x-python",
   "name": "python",
   "nbconvert_exporter": "python",
   "pygments_lexer": "ipython3",
   "version": "3.10.10"
  }
 },
 "nbformat": 4,
 "nbformat_minor": 2
}
