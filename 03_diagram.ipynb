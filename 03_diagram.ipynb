{
 "cells": [
  {
   "cell_type": "code",
   "execution_count": null,
   "metadata": {},
   "outputs": [],
   "source": [
    "## 03.도형 그리기"
   ]
  },
  {
   "cell_type": "code",
   "execution_count": 2,
   "metadata": {},
   "outputs": [],
   "source": [
    "import cv2\n",
    "import numpy as np"
   ]
  },
  {
   "cell_type": "code",
   "execution_count": 3,
   "metadata": {},
   "outputs": [],
   "source": [
    "### 3-1. 빈 화면 만들기\n",
    "# 이번시간에는 numpy로 해볼꺼임\n",
    "img = np.zeros((460, 640, 3), dtype = np.uint8) # uint8: 2^8= 256개, 0~256의 양수값만 갖는다. # int: 음수 포함 # RGB : 0~256까지의 값을 갖을 수 있음\n",
    "# img[:] = (255, 255, 255) # 하얀색으로 바꾸기 -> 이거 빼면 검정색 바탕으로 출력됨\n",
    "\n",
    "cv2.imshow(\"blank\", img) \n",
    "cv2.waitKey(0)\n",
    "cv2.destroyAllWindows()"
   ]
  },
  {
   "cell_type": "code",
   "execution_count": 14,
   "metadata": {},
   "outputs": [],
   "source": [
    "### 3-2. 일부 영역 색칠\n",
    "### 막간 실습1. 화면의 일부 영역에 \"원하는 색상\"의 사각형 그리기\n",
    "\n",
    "img = np.zeros((460, 640, 3), dtype = np.uint8)\n",
    "img[100:200, 200:300] = (255, 255, 255)\n",
    "cv2.imshow(\"blank\", img) \n",
    "cv2.waitKey(0)\n",
    "cv2.destroyAllWindows()"
   ]
  },
  {
   "cell_type": "code",
   "execution_count": 13,
   "metadata": {},
   "outputs": [],
   "source": [
    "### 3-3. 선 그리기\n",
    "#### 빈화면 먼저 만들기\n",
    "\n",
    "img = np.zeros((460, 640, 3), dtype = np.uint8)\n",
    "cv2.line(img, (50,100), (400,50), (255,0,0), 5, cv2.LINE_4) # (255,0,0): 파랑 # cv2.line(이미지, 시작, 끝, 색상, 두께)\n",
    "cv2.line(img, (50,200), (400,150), (255,255,0), 5, cv2.LINE_8)\n",
    "cv2.line(img, (50,300), (400,250), (255,255,210), 5, cv2.LINE_AA)\n",
    "cv2.imshow(\"Line\", img)\n",
    "cv2.waitKey(0)\n",
    "cv2.destroyAllWindows()"
   ]
  },
  {
   "cell_type": "code",
   "execution_count": 20,
   "metadata": {},
   "outputs": [],
   "source": [
    "### 3-4. 원 그리기\n",
    "\n",
    "img = np.zeros((460, 640, 3), dtype = np.uint8)\n",
    "\n",
    "RADIUS = 50\n",
    "COLOR = (0,255,0)\n",
    "THICKNESS = 10\n",
    "\n",
    "# 속이 비어있는 원\n",
    "cv2.circle(img, (200,300), RADIUS, COLOR, THICKNESS, cv2.LINE_AA) # (0, 255, 0): 초록\n",
    "cv2.imshow(\"circle\", img)\n",
    "cv2.waitKey(0)\n",
    "cv2.destroyAllWindows()\n",
    "\n",
    "# 속이 찬 원\n",
    "cv2.circle(img, (400,300), RADIUS, COLOR, cv2.FILLED, cv2.LINE_AA)\n",
    "cv2.imshow(\"circle\", img)\n",
    "cv2.waitKey(0)\n",
    "cv2.destroyAllWindows()"
   ]
  },
  {
   "cell_type": "code",
   "execution_count": 27,
   "metadata": {},
   "outputs": [],
   "source": [
    "### 3-5.타원 그리기\n",
    "\n",
    "img = np.zeros((460,640, 3), dtype = np.uint8)\n",
    "\n",
    "cv2.ellipse(img, (300,200), (100,50), 30,0, 360, (0,0,255), 5, cv2.LINE_AA)\n",
    "cv2.imshow(\"ellipse\", img)\n",
    "cv2.waitKey(0)\n",
    "cv2.destroyAllWindows()"
   ]
  },
  {
   "cell_type": "code",
   "execution_count": 32,
   "metadata": {},
   "outputs": [],
   "source": [
    "### 3-6.사각형 그리기\n",
    "\n",
    "img = np.zeros((460,640, 3), dtype = np.uint8)\n",
    "\n",
    "cv2.rectangle(img, (50,50), (250,250),(255,255,0), 10, cv2.LINE_AA) # cv2.rectangle(img, 왼쪽 끝, 오른쪽 끝, 두께, 라인타입)\n",
    "cv2.rectangle(img, (280,50), (480,250),(255,255,0), cv2.FILLED, cv2.LINE_AA)\n",
    "cv2.imshow(\"rectangle\", img)\n",
    "cv2.waitKey(0)\n",
    "cv2.destroyAllWindows()"
   ]
  },
  {
   "cell_type": "code",
   "execution_count": 45,
   "metadata": {},
   "outputs": [],
   "source": [
    "### 3-7.다각형(선)\n",
    "img = np.zeros((460,640, 3), dtype = np.uint8)\n",
    "\n",
    "pts = np.array([[100,100],[200,100],[100,200]]) # 다각형을 지정해줄 포인트를 만들어야함\n",
    "\n",
    "cv2.polylines(img, [pts], True, (255,0,255), 5)\n",
    "# cv2.polylines(img, [pts], False, (255,0,255), 5) # False를 넣으면 또 다름\n",
    "cv2.imshow(\"polylines\", img)\n",
    "cv2.waitKey(0)\n",
    "cv2.destroyAllWindows()"
   ]
  },
  {
   "cell_type": "code",
   "execution_count": 46,
   "metadata": {},
   "outputs": [],
   "source": [
    "### 3-8.다각형(채우기)\n",
    "# 닫는 여부 필요없음\n",
    "img = np.zeros((460,640, 3), dtype = np.uint8)\n",
    "\n",
    "pts = np.array([[[100,100],[200,100],[100,200]]]) # []로 한번 더 묶는 이유 : 아래 [pts] 대신 여기서 한번 더 묶어주는거\n",
    "\n",
    "cv2.fillPoly(img, pts, (255,0,255)) \n",
    "cv2.imshow(\"fillPoly\", img)\n",
    "cv2.waitKey(0)\n",
    "cv2.destroyAllWindows()"
   ]
  },
  {
   "cell_type": "code",
   "execution_count": null,
   "metadata": {},
   "outputs": [],
   "source": [
    "### 실습1. 도형 그려보기\n",
    "import cv2\n",
    "import numpy as np\n",
    "\n",
    "img = np.zeros((460,640, 3), dtype = np.uint8)\n",
    "pts = np.array([[100,100],[200,100],[100,200]])\n",
    "\n",
    "cv2.polylines(img, [pts], True, (255,0,255), 5)\n",
    "cv2.imshow(\"polylines\", img)\n",
    "cv2.waitKey(0)\n",
    "cv2.destroyAllWindows()"
   ]
  }
 ],
 "metadata": {
  "kernelspec": {
   "display_name": "my_cv",
   "language": "python",
   "name": "python3"
  },
  "language_info": {
   "codemirror_mode": {
    "name": "ipython",
    "version": 3
   },
   "file_extension": ".py",
   "mimetype": "text/x-python",
   "name": "python",
   "nbconvert_exporter": "python",
   "pygments_lexer": "ipython3",
   "version": "3.10.10"
  }
 },
 "nbformat": 4,
 "nbformat_minor": 2
}
