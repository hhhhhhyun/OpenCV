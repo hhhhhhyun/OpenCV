{
 "cells": [
  {
   "cell_type": "code",
   "execution_count": 9,
   "metadata": {},
   "outputs": [
    {
     "data": {
      "text/plain": [
       "-1"
      ]
     },
     "execution_count": 9,
     "metadata": {},
     "output_type": "execute_result"
    }
   ],
   "source": [
    "# 실습2. 캠 화면에 검출\n",
    "# 1. 캠 화면에 Canny edge detection 적용\n",
    "# 2. Canny의 threshold1,2을 조절할 수 있는 Trackbar 생성\n",
    "# 방법1\n",
    "import cv2\n",
    "name = \"Canny\"\n",
    "cap = cv2.VideoCapture(0)\n",
    "cv2.namedWindow(name)\n",
    "\n",
    "if not cap.isOpened():\n",
    "    exit()\n",
    "\n",
    "cv2.createTrackbar(\"threshold1\", name, 0, 255, lambda x:x)\n",
    "cv2.createTrackbar(\"threshold2\", name, 0, 255, lambda x:x)\n",
    "\n",
    "while True:\n",
    "    ret, frame = cap.read()\n",
    "    \n",
    "    threshold1 = cv2.getTrackbarPos(\"threshold1\", name)\n",
    "    threshold2 = cv2.getTrackbarPos(\"threshold2\", name)\n",
    "\n",
    "    if not ret:\n",
    "        break\n",
    "\n",
    "    canny = cv2.Canny(frame, threshold1, threshold2)\n",
    "    cv2.imshow(name, canny)\n",
    "\n",
    "    if cv2.waitKey(1) == ord(\"q\"):\n",
    "        break\n",
    "cap.release()\n",
    "\n",
    "cv2.destroyAllWindows()\n",
    "cv2.waitKey(1)"
   ]
  },
  {
   "cell_type": "code",
   "execution_count": null,
   "metadata": {},
   "outputs": [],
   "source": [
    "# 방법2\n",
    "import cv2\n",
    "cap = cv2.VideoCapture(0)\n",
    "\n",
    "#기본 구현\n",
    "\n",
    "name = \"cam\"\n",
    "cv2.namedWindow(name)\n",
    "cv2.createTrackbar(\"threshold_1\", name, 10, 255, lambda x:x)\n",
    "cv2.createTrackbar(\"threshold_2\", name, 150, 255, lambda x:x)\n",
    "\n",
    "if not cap.isOpened():\n",
    "    exit()\n",
    "    \n",
    "while True:\n",
    "    ret, frame = cap.read()\n",
    "    \n",
    "    threshold_1 = cv2.getTrackbarPos(\"threshold_1\", name)\n",
    "    threshold_2 = cv2.getTrackbarPos(\"threshold_2\", name)\n",
    "    \n",
    "    canny_frame = cv2.Canny(frame, threshold_1, threshold_2) \n",
    "    cv2.imshow(name, canny_frame)\n",
    "    \n",
    "    if cv2.waitKey(1) == ord(\"q\"):\n",
    "        break\n",
    " \n",
    "    if not ret:\n",
    "        break\n",
    "    \n",
    "    if cv2.waitKey(1) == ord(\"q\"): \n",
    "       break\n",
    "        \n",
    "cap.release()\n",
    "cv2.destroyAllWindows()"
   ]
  },
  {
   "cell_type": "code",
   "execution_count": 12,
   "metadata": {},
   "outputs": [],
   "source": [
    "# 이미지 블러처리 그레이스케일로 해보기\n",
    "img = cv2.imread(\"images/ikm.png\", cv2.IMREAD_GRAYSCALE)\n",
    "blurred = cv2.GaussianBlur(img, (0,0), 1)\n",
    "\n",
    "canny_img = cv2.Canny(img, 50, 150)\n",
    "canny_blurred = cv2.Canny(blurred, 50, 150)\n",
    "\n",
    "cv2.imshow(\"img\", canny_img)\n",
    "cv2.imshow(\"blurred\", canny_blurred)\n",
    "\n",
    "cv2.waitKey(0)\n",
    "cv2.destroyAllWindows()"
   ]
  }
 ],
 "metadata": {
  "kernelspec": {
   "display_name": "my_cv",
   "language": "python",
   "name": "python3"
  },
  "language_info": {
   "codemirror_mode": {
    "name": "ipython",
    "version": 3
   },
   "file_extension": ".py",
   "mimetype": "text/x-python",
   "name": "python",
   "nbconvert_exporter": "python",
   "pygments_lexer": "ipython3",
   "version": "3.10.10"
  }
 },
 "nbformat": 4,
 "nbformat_minor": 2
}
